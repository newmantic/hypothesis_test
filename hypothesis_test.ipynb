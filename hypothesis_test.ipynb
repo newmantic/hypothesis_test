{
  "nbformat": 4,
  "nbformat_minor": 0,
  "metadata": {
    "colab": {
      "provenance": [],
      "authorship_tag": "ABX9TyMfJMOU8ewodfziVllWffhf",
      "include_colab_link": true
    },
    "kernelspec": {
      "name": "python3",
      "display_name": "Python 3"
    },
    "language_info": {
      "name": "python"
    }
  },
  "cells": [
    {
      "cell_type": "markdown",
      "metadata": {
        "id": "view-in-github",
        "colab_type": "text"
      },
      "source": [
        "<a href=\"https://colab.research.google.com/github/newmantic/hypothesis_test/blob/main/hypothesis_test.ipynb\" target=\"_parent\"><img src=\"https://colab.research.google.com/assets/colab-badge.svg\" alt=\"Open In Colab\"/></a>"
      ]
    },
    {
      "cell_type": "code",
      "execution_count": 1,
      "metadata": {
        "id": "2wGzzAnjlVE3",
        "colab": {
          "base_uri": "https://localhost:8080/"
        },
        "outputId": "0f5311dd-0ece-491b-ade0-e38a2d4598a6"
      },
      "outputs": [
        {
          "output_type": "stream",
          "name": "stdout",
          "text": [
            "Z-Score: 1.8257418583505538, P-Value: 0.067889154861829\n"
          ]
        }
      ],
      "source": [
        "import numpy as np\n",
        "from scipy.stats import norm\n",
        "\n",
        "def z_test(sample_mean, population_mean, population_std, n):\n",
        "    \"\"\"\n",
        "    Perform a one-sample Z-test.\n",
        "\n",
        "    Parameters:\n",
        "    sample_mean (float): The mean of the sample.\n",
        "    population_mean (float): The mean of the population.\n",
        "    population_std (float): The standard deviation of the population.\n",
        "    n (int): The sample size.\n",
        "\n",
        "    Returns:\n",
        "    float: The Z score.\n",
        "    float: The p-value.\n",
        "    \"\"\"\n",
        "    standard_error = population_std / np.sqrt(n)\n",
        "    z_score = (sample_mean - population_mean) / standard_error\n",
        "    p_value = 2 * (1 - norm.cdf(abs(z_score)))\n",
        "    return z_score, p_value\n",
        "\n",
        "# Testable example:\n",
        "z_score, p_value = z_test(sample_mean=105, population_mean=100, population_std=15, n=30)\n",
        "print(f\"Z-Score: {z_score}, P-Value: {p_value}\")"
      ]
    },
    {
      "cell_type": "code",
      "source": [
        "from scipy.stats import t\n",
        "\n",
        "def t_test(sample1, sample2):\n",
        "    \"\"\"\n",
        "    Perform an independent two-sample t-test.\n",
        "\n",
        "    Parameters:\n",
        "    sample1 (list): Sample data from group 1.\n",
        "    sample2 (list): Sample data from group 2.\n",
        "\n",
        "    Returns:\n",
        "    float: The t-statistic.\n",
        "    float: The p-value.\n",
        "    \"\"\"\n",
        "    n1, n2 = len(sample1), len(sample2)\n",
        "    mean1, mean2 = np.mean(sample1), np.mean(sample2)\n",
        "    var1, var2 = np.var(sample1, ddof=1), np.var(sample2, ddof=1)\n",
        "\n",
        "    pooled_std = np.sqrt(((n1 - 1) * var1 + (n2 - 1) * var2) / (n1 + n2 - 2))\n",
        "    t_stat = (mean1 - mean2) / (pooled_std * np.sqrt(1/n1 + 1/n2))\n",
        "\n",
        "    df = n1 + n2 - 2\n",
        "    p_value = 2 * (1 - t.cdf(abs(t_stat), df))\n",
        "    return t_stat, p_value\n",
        "\n",
        "# Testable example:\n",
        "sample1 = [12.9, 10.5, 9.7, 13.4, 11.9, 10.2]\n",
        "sample2 = [8.7, 9.3, 10.1, 7.5, 8.2, 9.0]\n",
        "t_stat, p_value = t_test(sample1, sample2)\n",
        "print(f\"T-Statistic: {t_stat}, P-Value: {p_value}\")"
      ],
      "metadata": {
        "colab": {
          "base_uri": "https://localhost:8080/"
        },
        "id": "qla-JJKqfPSn",
        "outputId": "276f41fb-ec01-4726-d80f-53dc7db4c899"
      },
      "execution_count": 2,
      "outputs": [
        {
          "output_type": "stream",
          "name": "stdout",
          "text": [
            "T-Statistic: 3.64322320028733, P-Value: 0.0045126389834855285\n"
          ]
        }
      ]
    },
    {
      "cell_type": "code",
      "source": [
        "from scipy.stats import chi2_contingency\n",
        "\n",
        "def chi_squared_test(observed):\n",
        "    \"\"\"\n",
        "    Perform a Chi-Squared test for independence.\n",
        "\n",
        "    Parameters:\n",
        "    observed (list of lists): A contingency table of observed frequencies.\n",
        "\n",
        "    Returns:\n",
        "    float: The chi-squared statistic.\n",
        "    float: The p-value.\n",
        "    int: The degrees of freedom.\n",
        "    np.ndarray: The expected frequencies.\n",
        "    \"\"\"\n",
        "    chi2, p, dof, expected = chi2_contingency(observed)\n",
        "    return chi2, p, dof, expected\n",
        "\n",
        "# Testable example:\n",
        "observed = [[10, 20, 30], [6, 9, 17]]\n",
        "chi2, p_value, dof, expected = chi_squared_test(observed)\n",
        "print(f\"Chi-Squared: {chi2}, P-Value: {p_value}, Degrees of Freedom: {dof}\")\n",
        "print(\"Expected Frequencies:\")\n",
        "print(expected)"
      ],
      "metadata": {
        "colab": {
          "base_uri": "https://localhost:8080/"
        },
        "id": "IYgw_c5bfSSw",
        "outputId": "e5315a8a-7d7f-44b4-9b95-65736d58694e"
      },
      "execution_count": 3,
      "outputs": [
        {
          "output_type": "stream",
          "name": "stdout",
          "text": [
            "Chi-Squared: 0.27157465150403504, P-Value: 0.873028283380073, Degrees of Freedom: 2\n",
            "Expected Frequencies:\n",
            "[[10.43478261 18.91304348 30.65217391]\n",
            " [ 5.56521739 10.08695652 16.34782609]]\n"
          ]
        }
      ]
    }
  ]
}